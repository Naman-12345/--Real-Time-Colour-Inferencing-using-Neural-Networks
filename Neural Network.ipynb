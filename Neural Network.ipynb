{
  "nbformat": 4,
  "nbformat_minor": 0,
  "metadata": {
    "colab": {
      "provenance": []
    },
    "kernelspec": {
      "name": "python3",
      "display_name": "Python 3"
    },
    "language_info": {
      "name": "python"
    }
  },
  "cells": [
    {
      "cell_type": "code",
      "execution_count": null,
      "metadata": {
        "colab": {
          "base_uri": "https://localhost:8080/"
        },
        "id": "f7QexQDLszKr",
        "outputId": "f6696da6-6e3f-4e06-9dc7-803e5dcdb544"
      },
      "outputs": [
        {
          "output_type": "stream",
          "name": "stdout",
          "text": [
            "Looking in indexes: https://pypi.org/simple, https://us-python.pkg.dev/colab-wheels/public/simple/\n",
            "Requirement already satisfied: pandas in /usr/local/lib/python3.9/dist-packages (1.4.4)\n",
            "Requirement already satisfied: numpy in /usr/local/lib/python3.9/dist-packages (1.22.4)\n",
            "Requirement already satisfied: matplotlib in /usr/local/lib/python3.9/dist-packages (3.7.1)\n",
            "Requirement already satisfied: python-dateutil>=2.8.1 in /usr/local/lib/python3.9/dist-packages (from pandas) (2.8.2)\n",
            "Requirement already satisfied: pytz>=2020.1 in /usr/local/lib/python3.9/dist-packages (from pandas) (2022.7.1)\n",
            "Requirement already satisfied: pillow>=6.2.0 in /usr/local/lib/python3.9/dist-packages (from matplotlib) (8.4.0)\n",
            "Requirement already satisfied: pyparsing>=2.3.1 in /usr/local/lib/python3.9/dist-packages (from matplotlib) (3.0.9)\n",
            "Requirement already satisfied: fonttools>=4.22.0 in /usr/local/lib/python3.9/dist-packages (from matplotlib) (4.39.0)\n",
            "Requirement already satisfied: cycler>=0.10 in /usr/local/lib/python3.9/dist-packages (from matplotlib) (0.11.0)\n",
            "Requirement already satisfied: packaging>=20.0 in /usr/local/lib/python3.9/dist-packages (from matplotlib) (23.0)\n",
            "Requirement already satisfied: contourpy>=1.0.1 in /usr/local/lib/python3.9/dist-packages (from matplotlib) (1.0.7)\n",
            "Requirement already satisfied: kiwisolver>=1.0.1 in /usr/local/lib/python3.9/dist-packages (from matplotlib) (1.4.4)\n",
            "Requirement already satisfied: importlib-resources>=3.2.0 in /usr/local/lib/python3.9/dist-packages (from matplotlib) (5.12.0)\n",
            "Requirement already satisfied: zipp>=3.1.0 in /usr/local/lib/python3.9/dist-packages (from importlib-resources>=3.2.0->matplotlib) (3.15.0)\n",
            "Requirement already satisfied: six>=1.5 in /usr/local/lib/python3.9/dist-packages (from python-dateutil>=2.8.1->pandas) (1.15.0)\n",
            "Looking in indexes: https://pypi.org/simple, https://us-python.pkg.dev/colab-wheels/public/simple/\n",
            "Collecting tensorflow==2.12.0rc1\n",
            "  Downloading tensorflow-2.12.0rc1-cp39-cp39-manylinux_2_17_x86_64.manylinux2014_x86_64.whl (585.9 MB)\n",
            "\u001b[2K     \u001b[90m━━━━━━━━━━━━━━━━━━━━━━━━━━━━━━━━━━━━━\u001b[0m \u001b[32m585.9/585.9 MB\u001b[0m \u001b[31m459.3 kB/s\u001b[0m eta \u001b[36m0:00:00\u001b[0m\n",
            "\u001b[?25hRequirement already satisfied: setuptools in /usr/local/lib/python3.9/dist-packages (from tensorflow==2.12.0rc1) (63.4.3)\n",
            "Requirement already satisfied: jax>=0.3.15 in /usr/local/lib/python3.9/dist-packages (from tensorflow==2.12.0rc1) (0.4.6)\n",
            "Requirement already satisfied: six>=1.12.0 in /usr/local/lib/python3.9/dist-packages (from tensorflow==2.12.0rc1) (1.15.0)\n",
            "Requirement already satisfied: h5py>=2.9.0 in /usr/local/lib/python3.9/dist-packages (from tensorflow==2.12.0rc1) (3.8.0)\n",
            "Requirement already satisfied: typing-extensions>=3.6.6 in /usr/local/lib/python3.9/dist-packages (from tensorflow==2.12.0rc1) (4.5.0)\n",
            "Collecting tensorflow-estimator<2.13,>=2.12.0rc0\n",
            "  Downloading tensorflow_estimator-2.12.0-py2.py3-none-any.whl (440 kB)\n",
            "\u001b[2K     \u001b[90m━━━━━━━━━━━━━━━━━━━━━━━━━━━━━━━━━━━━━━\u001b[0m \u001b[32m440.7/440.7 KB\u001b[0m \u001b[31m17.1 MB/s\u001b[0m eta \u001b[36m0:00:00\u001b[0m\n",
            "\u001b[?25hRequirement already satisfied: numpy<1.24,>=1.22 in /usr/local/lib/python3.9/dist-packages (from tensorflow==2.12.0rc1) (1.22.4)\n",
            "Requirement already satisfied: google-pasta>=0.1.1 in /usr/local/lib/python3.9/dist-packages (from tensorflow==2.12.0rc1) (0.2.0)\n",
            "Requirement already satisfied: gast<=0.4.0,>=0.2.1 in /usr/local/lib/python3.9/dist-packages (from tensorflow==2.12.0rc1) (0.4.0)\n",
            "Requirement already satisfied: flatbuffers>=2.0 in /usr/local/lib/python3.9/dist-packages (from tensorflow==2.12.0rc1) (23.3.3)\n",
            "Requirement already satisfied: termcolor>=1.1.0 in /usr/local/lib/python3.9/dist-packages (from tensorflow==2.12.0rc1) (2.2.0)\n",
            "Collecting keras<2.13,>=2.12.0rc0\n",
            "  Downloading keras-2.12.0-py2.py3-none-any.whl (1.7 MB)\n",
            "\u001b[2K     \u001b[90m━━━━━━━━━━━━━━━━━━━━━━━━━━━━━━━━━━━━━━━━\u001b[0m \u001b[32m1.7/1.7 MB\u001b[0m \u001b[31m25.8 MB/s\u001b[0m eta \u001b[36m0:00:00\u001b[0m\n",
            "\u001b[?25hCollecting tensorboard<2.13,>=2.12\n",
            "  Downloading tensorboard-2.12.0-py3-none-any.whl (5.6 MB)\n",
            "\u001b[2K     \u001b[90m━━━━━━━━━━━━━━━━━━━━━━━━━━━━━━━━━━━━━━━━\u001b[0m \u001b[32m5.6/5.6 MB\u001b[0m \u001b[31m56.9 MB/s\u001b[0m eta \u001b[36m0:00:00\u001b[0m\n",
            "\u001b[?25hRequirement already satisfied: grpcio<2.0,>=1.24.3 in /usr/local/lib/python3.9/dist-packages (from tensorflow==2.12.0rc1) (1.51.3)\n",
            "Requirement already satisfied: tensorflow-io-gcs-filesystem>=0.23.1 in /usr/local/lib/python3.9/dist-packages (from tensorflow==2.12.0rc1) (0.31.0)\n",
            "Requirement already satisfied: packaging in /usr/local/lib/python3.9/dist-packages (from tensorflow==2.12.0rc1) (23.0)\n",
            "Collecting protobuf!=4.21.0,!=4.21.1,!=4.21.2,!=4.21.3,!=4.21.4,!=4.21.5,<5.0.0dev,>=3.20.3\n",
            "  Downloading protobuf-4.22.1-cp37-abi3-manylinux2014_x86_64.whl (302 kB)\n",
            "\u001b[2K     \u001b[90m━━━━━━━━━━━━━━━━━━━━━━━━━━━━━━━━━━━━━━\u001b[0m \u001b[32m302.4/302.4 KB\u001b[0m \u001b[31m19.1 MB/s\u001b[0m eta \u001b[36m0:00:00\u001b[0m\n",
            "\u001b[?25hCollecting wrapt<1.15,>=1.11.0\n",
            "  Downloading wrapt-1.14.1-cp39-cp39-manylinux_2_5_x86_64.manylinux1_x86_64.manylinux_2_17_x86_64.manylinux2014_x86_64.whl (77 kB)\n",
            "\u001b[2K     \u001b[90m━━━━━━━━━━━━━━━━━━━━━━━━━━━━━━━━━━━━━━━━\u001b[0m \u001b[32m77.8/77.8 KB\u001b[0m \u001b[31m6.7 MB/s\u001b[0m eta \u001b[36m0:00:00\u001b[0m\n",
            "\u001b[?25hRequirement already satisfied: absl-py>=1.0.0 in /usr/local/lib/python3.9/dist-packages (from tensorflow==2.12.0rc1) (1.4.0)\n",
            "Requirement already satisfied: libclang>=13.0.0 in /usr/local/lib/python3.9/dist-packages (from tensorflow==2.12.0rc1) (15.0.6.1)\n",
            "Requirement already satisfied: astunparse>=1.6.0 in /usr/local/lib/python3.9/dist-packages (from tensorflow==2.12.0rc1) (1.6.3)\n",
            "Requirement already satisfied: opt-einsum>=2.3.2 in /usr/local/lib/python3.9/dist-packages (from tensorflow==2.12.0rc1) (3.3.0)\n",
            "Requirement already satisfied: wheel<1.0,>=0.23.0 in /usr/local/lib/python3.9/dist-packages (from astunparse>=1.6.0->tensorflow==2.12.0rc1) (0.40.0)\n",
            "Requirement already satisfied: scipy>=1.5 in /usr/local/lib/python3.9/dist-packages (from jax>=0.3.15->tensorflow==2.12.0rc1) (1.10.1)\n",
            "Requirement already satisfied: markdown>=2.6.8 in /usr/local/lib/python3.9/dist-packages (from tensorboard<2.13,>=2.12->tensorflow==2.12.0rc1) (3.4.1)\n",
            "Requirement already satisfied: tensorboard-plugin-wit>=1.6.0 in /usr/local/lib/python3.9/dist-packages (from tensorboard<2.13,>=2.12->tensorflow==2.12.0rc1) (1.8.1)\n",
            "Requirement already satisfied: google-auth-oauthlib<0.5,>=0.4.1 in /usr/local/lib/python3.9/dist-packages (from tensorboard<2.13,>=2.12->tensorflow==2.12.0rc1) (0.4.6)\n",
            "Requirement already satisfied: google-auth<3,>=1.6.3 in /usr/local/lib/python3.9/dist-packages (from tensorboard<2.13,>=2.12->tensorflow==2.12.0rc1) (2.16.2)\n",
            "Collecting tensorboard-data-server<0.8.0,>=0.7.0\n",
            "  Downloading tensorboard_data_server-0.7.0-py3-none-manylinux2014_x86_64.whl (6.6 MB)\n",
            "\u001b[2K     \u001b[90m━━━━━━━━━━━━━━━━━━━━━━━━━━━━━━━━━━━━━━━━\u001b[0m \u001b[32m6.6/6.6 MB\u001b[0m \u001b[31m26.0 MB/s\u001b[0m eta \u001b[36m0:00:00\u001b[0m\n",
            "\u001b[?25hRequirement already satisfied: requests<3,>=2.21.0 in /usr/local/lib/python3.9/dist-packages (from tensorboard<2.13,>=2.12->tensorflow==2.12.0rc1) (2.27.1)\n",
            "Requirement already satisfied: werkzeug>=1.0.1 in /usr/local/lib/python3.9/dist-packages (from tensorboard<2.13,>=2.12->tensorflow==2.12.0rc1) (2.2.3)\n",
            "Requirement already satisfied: pyasn1-modules>=0.2.1 in /usr/local/lib/python3.9/dist-packages (from google-auth<3,>=1.6.3->tensorboard<2.13,>=2.12->tensorflow==2.12.0rc1) (0.2.8)\n",
            "Requirement already satisfied: cachetools<6.0,>=2.0.0 in /usr/local/lib/python3.9/dist-packages (from google-auth<3,>=1.6.3->tensorboard<2.13,>=2.12->tensorflow==2.12.0rc1) (5.3.0)\n",
            "Requirement already satisfied: rsa<5,>=3.1.4 in /usr/local/lib/python3.9/dist-packages (from google-auth<3,>=1.6.3->tensorboard<2.13,>=2.12->tensorflow==2.12.0rc1) (4.9)\n",
            "Requirement already satisfied: requests-oauthlib>=0.7.0 in /usr/local/lib/python3.9/dist-packages (from google-auth-oauthlib<0.5,>=0.4.1->tensorboard<2.13,>=2.12->tensorflow==2.12.0rc1) (1.3.1)\n",
            "Requirement already satisfied: importlib-metadata>=4.4 in /usr/local/lib/python3.9/dist-packages (from markdown>=2.6.8->tensorboard<2.13,>=2.12->tensorflow==2.12.0rc1) (6.0.0)\n",
            "Requirement already satisfied: urllib3<1.27,>=1.21.1 in /usr/local/lib/python3.9/dist-packages (from requests<3,>=2.21.0->tensorboard<2.13,>=2.12->tensorflow==2.12.0rc1) (1.26.15)\n",
            "Requirement already satisfied: charset-normalizer~=2.0.0 in /usr/local/lib/python3.9/dist-packages (from requests<3,>=2.21.0->tensorboard<2.13,>=2.12->tensorflow==2.12.0rc1) (2.0.12)\n",
            "Requirement already satisfied: idna<4,>=2.5 in /usr/local/lib/python3.9/dist-packages (from requests<3,>=2.21.0->tensorboard<2.13,>=2.12->tensorflow==2.12.0rc1) (3.4)\n",
            "Requirement already satisfied: certifi>=2017.4.17 in /usr/local/lib/python3.9/dist-packages (from requests<3,>=2.21.0->tensorboard<2.13,>=2.12->tensorflow==2.12.0rc1) (2022.12.7)\n",
            "Requirement already satisfied: MarkupSafe>=2.1.1 in /usr/local/lib/python3.9/dist-packages (from werkzeug>=1.0.1->tensorboard<2.13,>=2.12->tensorflow==2.12.0rc1) (2.1.2)\n",
            "Requirement already satisfied: zipp>=0.5 in /usr/local/lib/python3.9/dist-packages (from importlib-metadata>=4.4->markdown>=2.6.8->tensorboard<2.13,>=2.12->tensorflow==2.12.0rc1) (3.15.0)\n",
            "Requirement already satisfied: pyasn1<0.5.0,>=0.4.6 in /usr/local/lib/python3.9/dist-packages (from pyasn1-modules>=0.2.1->google-auth<3,>=1.6.3->tensorboard<2.13,>=2.12->tensorflow==2.12.0rc1) (0.4.8)\n",
            "Requirement already satisfied: oauthlib>=3.0.0 in /usr/local/lib/python3.9/dist-packages (from requests-oauthlib>=0.7.0->google-auth-oauthlib<0.5,>=0.4.1->tensorboard<2.13,>=2.12->tensorflow==2.12.0rc1) (3.2.2)\n",
            "Installing collected packages: wrapt, tensorflow-estimator, tensorboard-data-server, protobuf, keras, tensorboard, tensorflow\n",
            "  Attempting uninstall: wrapt\n",
            "    Found existing installation: wrapt 1.15.0\n",
            "    Uninstalling wrapt-1.15.0:\n",
            "      Successfully uninstalled wrapt-1.15.0\n",
            "  Attempting uninstall: tensorflow-estimator\n",
            "    Found existing installation: tensorflow-estimator 2.11.0\n",
            "    Uninstalling tensorflow-estimator-2.11.0:\n",
            "      Successfully uninstalled tensorflow-estimator-2.11.0\n",
            "  Attempting uninstall: tensorboard-data-server\n",
            "    Found existing installation: tensorboard-data-server 0.6.1\n",
            "    Uninstalling tensorboard-data-server-0.6.1:\n",
            "      Successfully uninstalled tensorboard-data-server-0.6.1\n",
            "  Attempting uninstall: protobuf\n",
            "    Found existing installation: protobuf 3.19.6\n",
            "    Uninstalling protobuf-3.19.6:\n",
            "      Successfully uninstalled protobuf-3.19.6\n",
            "  Attempting uninstall: keras\n",
            "    Found existing installation: keras 2.11.0\n",
            "    Uninstalling keras-2.11.0:\n",
            "      Successfully uninstalled keras-2.11.0\n",
            "  Attempting uninstall: tensorboard\n",
            "    Found existing installation: tensorboard 2.11.2\n",
            "    Uninstalling tensorboard-2.11.2:\n",
            "      Successfully uninstalled tensorboard-2.11.2\n",
            "  Attempting uninstall: tensorflow\n",
            "    Found existing installation: tensorflow 2.11.0\n",
            "    Uninstalling tensorflow-2.11.0:\n",
            "      Successfully uninstalled tensorflow-2.11.0\n",
            "\u001b[31mERROR: pip's dependency resolver does not currently take into account all the packages that are installed. This behaviour is the source of the following dependency conflicts.\n",
            "tensorflow-metadata 1.12.0 requires protobuf<4,>=3.13, but you have protobuf 4.22.1 which is incompatible.\u001b[0m\u001b[31m\n",
            "\u001b[0mSuccessfully installed keras-2.12.0 protobuf-4.22.1 tensorboard-2.12.0 tensorboard-data-server-0.7.0 tensorflow-2.12.0rc1 tensorflow-estimator-2.12.0 wrapt-1.14.1\n"
          ]
        }
      ],
      "source": [
        "!apt-get -qq install xxd\n",
        "!pip install pandas numpy matplotlib\n",
        "!pip install tensorflow==2.12.0rc1"
      ]
    },
    {
      "cell_type": "code",
      "source": [
        "import matplotlib.pyplot as plt\n",
        "import numpy as np\n",
        "import pandas as pd\n",
        "\n",
        "\n",
        "\n",
        "df = pd.read_csv(\"/content/sample_data/Blue.csv\")\n",
        "print(df.head())\n"
      ],
      "metadata": {
        "id": "qFFSgP1ztSbO",
        "colab": {
          "base_uri": "https://localhost:8080/"
        },
        "outputId": "6e8c7302-8081-4af1-ee5d-2e2ae18190a2"
      },
      "execution_count": null,
      "outputs": [
        {
          "output_type": "stream",
          "name": "stdout",
          "text": [
            "      R     G     B\n",
            "0  0.15  0.30  0.45\n",
            "1  0.10  0.25  0.35\n",
            "2  0.10  0.20  0.30\n",
            "3  0.10  0.20  0.30\n",
            "4  0.10  0.20  0.30\n"
          ]
        }
      ]
    },
    {
      "cell_type": "code",
      "source": [
        "# for col in df.columns:\n",
        "#     print(col)\n",
        "index = range(1, len(df['R']) + 1)\n",
        "df.shape[0]"
      ],
      "metadata": {
        "colab": {
          "base_uri": "https://localhost:8080/"
        },
        "id": "8H7uzTh-uZkS",
        "outputId": "87e7e9cd-8d24-4273-870e-b2fa81ecd9eb"
      },
      "execution_count": null,
      "outputs": [
        {
          "output_type": "execute_result",
          "data": {
            "text/plain": [
              "99"
            ]
          },
          "metadata": {},
          "execution_count": 3
        }
      ]
    },
    {
      "cell_type": "code",
      "source": [
        "\n",
        "plt.rcParams[\"figure.figsize\"] = (20,10)\n",
        "\n",
        "plt.plot(index, df['R'], 'r.', label='r', linestyle='solid', marker=',')\n",
        "plt.plot(index, df['G'], 'g.', label='g', linestyle='solid', marker=',')\n",
        "plt.plot(index, df['B'], 'b.', label='b', linestyle='solid', marker=',')\n",
        "\n",
        "plt.legend()\n",
        "plt.show()\n"
      ],
      "metadata": {
        "colab": {
          "base_uri": "https://localhost:8080/",
          "height": 719
        },
        "id": "ABnAn1_puapB",
        "outputId": "977c866a-0e30-4d6f-cb19-ec19d87f63b0"
      },
      "execution_count": null,
      "outputs": [
        {
          "output_type": "stream",
          "name": "stderr",
          "text": [
            "<ipython-input-4-57c5bcce089c>:3: UserWarning: marker is redundantly defined by the 'marker' keyword argument and the fmt string \"r.\" (-> marker='.'). The keyword argument will take precedence.\n",
            "  plt.plot(index, df['R'], 'r.', label='r', linestyle='solid', marker=',')\n",
            "<ipython-input-4-57c5bcce089c>:4: UserWarning: marker is redundantly defined by the 'marker' keyword argument and the fmt string \"g.\" (-> marker='.'). The keyword argument will take precedence.\n",
            "  plt.plot(index, df['G'], 'g.', label='g', linestyle='solid', marker=',')\n",
            "<ipython-input-4-57c5bcce089c>:5: UserWarning: marker is redundantly defined by the 'marker' keyword argument and the fmt string \"b.\" (-> marker='.'). The keyword argument will take precedence.\n",
            "  plt.plot(index, df['B'], 'b.', label='b', linestyle='solid', marker=',')\n"
          ]
        },
        {
          "output_type": "display_data",
          "data": {
            "text/plain": [
              "<Figure size 1440x720 with 1 Axes>"
            ],
            "image/png": "[encoded data removed]"
          },
          "metadata": {
            "needs_background": "light"
          }
        }
      ]
    },
    {
      "cell_type": "code",
      "source": [
        "import matplotlib.pyplot as plt\n",
        "import numpy as np\n",
        "import pandas as pd\n",
        "import tensorflow as tf\n",
        "\n",
        "print(f\"TensorFlow version = {tf.__version__}\\n\")\n",
        "\n",
        "# Set a fixed random seed value, for reproducibility, this will allow us to get\n",
        "# the same random numbers each time the notebook is run\n",
        "SEED = 1337\n",
        "np.random.seed(SEED)\n",
        "tf.random.set_seed(SEED)\n",
        "\n",
        "# the list of colors that data is available for\n",
        "COLORS = [\n",
        "    \"Blue\",\n",
        "    \"Green\",\n",
        "    \"Red\",\n",
        "    \"Yellow\"\n",
        "    ,\"Brown\"\n",
        "    ,\"White\"\n",
        "\n",
        "]\n",
        "\n",
        "SAMPLES_PER_COLOR = 9\n",
        "\n",
        "NUM_COLORS = len(COLORS)\n",
        "\n",
        "# create a one-hot encoded matrix that is used in the output\n",
        "ONE_HOT_ENCODED_COLORS = np.eye(NUM_COLORS)\n",
        "\n",
        "inputs = []\n",
        "outputs = []\n",
        "\n",
        "# read each csv file and push an input and output\n",
        "for color_index in range(NUM_COLORS):\n",
        "  color = COLORS[color_index]\n",
        "  print(f\"Processing index {color_index} for color '{color}'.\")\n",
        "\n",
        "  output = ONE_HOT_ENCODED_COLORS[color_index]\n",
        "  print(output)\n",
        "  df = pd.read_csv(\"/content/sample_data/\" + color + \".csv\")\n",
        "\n",
        "  # calculate the number of color recordings in the file\n",
        "  num_recordings = int(df.shape[0] / SAMPLES_PER_COLOR)\n",
        "\n",
        "  print(f\"\\tThere are {num_recordings} recordings of the {color} color.\")\n",
        "\n",
        "  for i in range(num_recordings):\n",
        "    tensor = []\n",
        "    for j in range(SAMPLES_PER_COLOR):\n",
        "      index = i * SAMPLES_PER_COLOR + j\n",
        "      # print(\"index=\",index)\n",
        "      tensor = [\n",
        "          (df['R'][index] ) ,\n",
        "          (df['G'][index] ) ,\n",
        "          (df['B'][index] )\n",
        "      ]\n",
        "\n",
        "      inputs.append(tensor)\n",
        "      outputs.append(output)\n",
        "\n",
        "# convert the list to numpy array\n",
        "inputs = np.array(inputs)\n",
        "outputs = np.array(outputs)\n",
        "\n",
        "print(\"Data set parsing and preparation complete.\")"
      ],
      "metadata": {
        "colab": {
          "base_uri": "https://localhost:8080/"
        },
        "id": "ecLTj3Cpx2Q_",
        "outputId": "b9153b4b-ccb2-48f6-d003-10a8751a4dde"
      },
      "execution_count": null,
      "outputs": [
        {
          "output_type": "stream",
          "name": "stdout",
          "text": [
            "TensorFlow version = 2.12.0-rc1\n",
            "\n",
            "Processing index 0 for color 'Ambient Light'.\n",
            "[1. 0. 0. 0.]\n",
            "\tThere are 11 recordings of the Ambient Light color.\n",
            "Processing index 1 for color 'Blue'.\n",
            "[0. 1. 0. 0.]\n",
            "\tThere are 11 recordings of the Blue color.\n",
            "Processing index 2 for color 'Green'.\n",
            "[0. 0. 1. 0.]\n",
            "\tThere are 11 recordings of the Green color.\n",
            "Processing index 3 for color 'Red'.\n",
            "[0. 0. 0. 1.]\n",
            "\tThere are 11 recordings of the Red color.\n",
            "Data set parsing and preparation complete.\n"
          ]
        }
      ]
    },
    {
      "cell_type": "code",
      "source": [
        "print(SAMPLES_PER_COLOR)"
      ],
      "metadata": {
        "colab": {
          "base_uri": "https://localhost:8080/"
        },
        "id": "GxcEl3Hs19ZT",
        "outputId": "0a26de6a-05f1-40f7-bd65-baf13abfe32b"
      },
      "execution_count": null,
      "outputs": [
        {
          "output_type": "stream",
          "name": "stdout",
          "text": [
            "9\n"
          ]
        }
      ]
    },
    {
      "cell_type": "code",
      "source": [
        "# Randomize the order of the inputs, so they can be evenly distributed for training, testing, and validation\n",
        "# https://stackoverflow.com/a/37710486/2020087\n",
        "num_inputs = len(inputs)\n",
        "randomize = np.arange(num_inputs)\n",
        "np.random.shuffle(randomize)\n",
        "\n",
        "# Swap the consecutive indexes (0, 1, 2, etc) with the randomized indexes\n",
        "inputs = inputs[randomize]\n",
        "outputs = outputs[randomize]\n",
        "\n",
        "# Split the recordings (group of samples) into three sets: training, testing and validation\n",
        "#\"TEST_SPLIT\" variable to the sum of 60% of \"num_inputs\" and 20% of \"num_inputs\",\n",
        "# which corresponds to 80% of the input tensors. This indicates that the next 20% of\n",
        "# the input tensors will be used for validation, and the remaining 20% will be used for testing.\n",
        "# The training set will be used to fit the parameters of the model, the validation set will be used to tune hyperparameters and prevent overfitting, and the testing set will be used to evaluate the performance of the model on unseen data.\n",
        "TRAIN_SPLIT = int(0.6 * num_inputs)\n",
        "TEST_SPLIT = int(0.2 * num_inputs + TRAIN_SPLIT)\n",
        "\n",
        "inputs_train, inputs_test, inputs_validate = np.split(inputs, [TRAIN_SPLIT, TEST_SPLIT])\n",
        "outputs_train, outputs_test, outputs_validate = np.split(outputs, [TRAIN_SPLIT, TEST_SPLIT])\n",
        "\n",
        "print(\"Data set randomization and splitting complete.\")"
      ],
      "metadata": {
        "colab": {
          "base_uri": "https://localhost:8080/"
        },
        "id": "fNkYA9mUzGk7",
        "outputId": "837d1742-fbc0-4597-e671-7492f3ad9188"
      },
      "execution_count": null,
      "outputs": [
        {
          "output_type": "stream",
          "name": "stdout",
          "text": [
            "Data set randomization and splitting complete.\n"
          ]
        }
      ]
    },
    {
      "cell_type": "code",
      "source": [
        "print(inputs.shape)\n",
        "print(outputs.shape)"
      ],
      "metadata": {
        "colab": {
          "base_uri": "https://localhost:8080/"
        },
        "id": "osDjNiPN1pae",
        "outputId": "fe01c0e8-50f0-4fff-83d0-03732c24635a"
      },
      "execution_count": null,
      "outputs": [
        {
          "output_type": "stream",
          "name": "stdout",
          "text": [
            "(396, 3)\n",
            "(396, 4)\n"
          ]
        }
      ]
    },
    {
      "cell_type": "code",
      "source": [
        "print('select first firve rows: \\n',inputs[30:50, :],outputs[30:50, :])"
      ],
      "metadata": {
        "colab": {
          "base_uri": "https://localhost:8080/"
        },
        "id": "unTMVXo6EKFS",
        "outputId": "8007f88f-a53a-4dc3-c9a3-f29aff6b62f2"
      },
      "execution_count": null,
      "outputs": [
        {
          "output_type": "stream",
          "name": "stdout",
          "text": [
            "select first firve rows: \n",
            " [[0.15 0.35 0.55]\n",
            " [0.1  0.45 0.25]\n",
            " [0.1  0.3  0.2 ]\n",
            " [0.2  0.5  0.85]\n",
            " [0.55 0.25 0.25]\n",
            " [0.05 0.05 0.05]\n",
            " [0.1  0.4  0.25]\n",
            " [0.15 0.25 0.4 ]\n",
            " [0.1  0.35 0.2 ]\n",
            " [0.1  0.45 0.25]\n",
            " [0.15 0.25 0.4 ]\n",
            " [0.1  0.4  0.25]\n",
            " [0.1  0.2  0.3 ]\n",
            " [0.1  0.35 0.2 ]\n",
            " [0.1  0.35 0.2 ]\n",
            " [0.1  0.4  0.25]\n",
            " [0.1  0.35 0.2 ]\n",
            " [0.05 0.05 0.05]\n",
            " [1.05 0.45 0.4 ]\n",
            " [0.15 0.3  0.45]] [[0. 1. 0. 0.]\n",
            " [0. 0. 1. 0.]\n",
            " [0. 0. 1. 0.]\n",
            " [0. 1. 0. 0.]\n",
            " [0. 0. 0. 1.]\n",
            " [1. 0. 0. 0.]\n",
            " [0. 0. 1. 0.]\n",
            " [0. 1. 0. 0.]\n",
            " [0. 0. 1. 0.]\n",
            " [0. 0. 1. 0.]\n",
            " [0. 1. 0. 0.]\n",
            " [0. 0. 1. 0.]\n",
            " [0. 1. 0. 0.]\n",
            " [0. 0. 1. 0.]\n",
            " [0. 0. 1. 0.]\n",
            " [0. 0. 1. 0.]\n",
            " [0. 0. 1. 0.]\n",
            " [1. 0. 0. 0.]\n",
            " [0. 0. 0. 1.]\n",
            " [0. 1. 0. 0.]]\n"
          ]
        }
      ]
    },
    {
      "cell_type": "code",
      "source": [
        "# build the model and train it\n",
        "\n",
        "model = tf.keras.Sequential()\n",
        "model.add(tf.keras.layers.Dense(50, activation='relu')) # relu is used for performance\n",
        "model.add(tf.keras.layers.Dense(15, activation='relu'))\n",
        "model.add(tf.keras.layers.Dense(NUM_COLORS, activation='softmax'))\n",
        "model.compile(optimizer='rmsprop', loss='mse', metrics=['mae'])\n",
        "history = model.fit(inputs_train, outputs_train, epochs=5, batch_size=1, validation_data=(inputs_validate, outputs_validate))"
      ],
      "metadata": {
        "colab": {
          "base_uri": "https://localhost:8080/"
        },
        "id": "CRJrV7wdzPqq",
        "outputId": "96994f2d-81cf-474a-a52f-7eff7278c454"
      },
      "execution_count": null,
      "outputs": [
        {
          "output_type": "stream",
          "name": "stdout",
          "text": [
            "Epoch 1/5\n",
            "237/237 [==============================] - 2s 5ms/step - loss: 0.1685 - mae: 0.3536 - val_loss: 0.1345 - val_mae: 0.3102\n",
            "Epoch 2/5\n",
            "237/237 [==============================] - 1s 6ms/step - loss: 0.1274 - mae: 0.2956 - val_loss: 0.0929 - val_mae: 0.2340\n",
            "Epoch 3/5\n",
            "237/237 [==============================] - 1s 4ms/step - loss: 0.0943 - mae: 0.2368 - val_loss: 0.0670 - val_mae: 0.1852\n",
            "Epoch 4/5\n",
            "237/237 [==============================] - 1s 4ms/step - loss: 0.0675 - mae: 0.1909 - val_loss: 0.0458 - val_mae: 0.1443\n",
            "Epoch 5/5\n",
            "237/237 [==============================] - 1s 4ms/step - loss: 0.0478 - mae: 0.1499 - val_loss: 0.0330 - val_mae: 0.1126\n"
          ]
        }
      ]
    },
    {
      "cell_type": "code",
      "source": [
        "plt.rcParams[\"figure.figsize\"] = (20,10)\n",
        "\n",
        "# graph the loss, the model above is configure to use \"mean squared error\" as the loss function\n",
        "loss = history.history['loss']\n",
        "val_loss = history.history['val_loss']\n",
        "epochs = range(1, len(loss) + 1)\n",
        "plt.plot(epochs, loss, 'g.', label='Training loss')\n",
        "plt.plot(epochs, val_loss, 'b', label='Validation loss')\n",
        "plt.title('Training and validation loss')\n",
        "plt.xlabel('Epochs')\n",
        "plt.ylabel('Loss')\n",
        "plt.legend()\n",
        "plt.show()\n",
        "\n",
        "print(plt.rcParams[\"figure.figsize\"])"
      ],
      "metadata": {
        "colab": {
          "base_uri": "https://localhost:8080/",
          "height": 639
        },
        "id": "ZA_3SsJBDtOf",
        "outputId": "5d194de8-6811-4e79-9d45-b35ca11f5973"
      },
      "execution_count": null,
      "outputs": [
        {
          "output_type": "display_data",
          "data": {
            "text/plain": [
              "<Figure size 1440x720 with 1 Axes>"
            ],
            "image/png": "[encoded data removed]"
          },
          "metadata": {
            "needs_background": "light"
          }
        },
        {
          "output_type": "stream",
          "name": "stdout",
          "text": [
            "[20.0, 10.0]\n"
          ]
        }
      ]
    },
    {
      "cell_type": "code",
      "source": [
        "SKIP = 1\n",
        "plt.plot(epochs[SKIP:], loss[SKIP:], 'g.', label='Training loss')\n",
        "plt.plot(epochs[SKIP:], val_loss[SKIP:], 'b.', label='Validation loss')\n",
        "plt.title('Training and validation loss')\n",
        "plt.xlabel('Epochs')\n",
        "plt.ylabel('Loss')\n",
        "plt.legend()\n",
        "plt.show()"
      ],
      "metadata": {
        "colab": {
          "base_uri": "https://localhost:8080/",
          "height": 621
        },
        "id": "MJh5-iVZD5vW",
        "outputId": "4dd2bf0b-cba2-4142-c499-31f6c4db4b88"
      },
      "execution_count": null,
      "outputs": [
        {
          "output_type": "display_data",
          "data": {
            "text/plain": [
              "<Figure size 1440x720 with 1 Axes>"
            ],
            "image/png": "[encoded data removed]"
          },
          "metadata": {
            "needs_background": "light"
          }
        }
      ]
    },
    {
      "cell_type": "code",
      "source": [
        "# graph of mean absolute error\n",
        "mae = history.history['mae']\n",
        "val_mae = history.history['val_mae']\n",
        "plt.plot(epochs[SKIP:], mae[SKIP:], 'g.', label='Training MAE')\n",
        "plt.plot(epochs[SKIP:], val_mae[SKIP:], 'b.', label='Validation MAE')\n",
        "plt.title('Training and validation mean absolute error')\n",
        "plt.xlabel('Epochs')\n",
        "plt.ylabel('MAE')\n",
        "plt.legend()\n",
        "plt.show()\n"
      ],
      "metadata": {
        "colab": {
          "base_uri": "https://localhost:8080/",
          "height": 621
        },
        "id": "y7e8ap_eD9NB",
        "outputId": "e0ebc92e-28fa-487a-9141-ccfa9d7586e0"
      },
      "execution_count": null,
      "outputs": [
        {
          "output_type": "display_data",
          "data": {
            "text/plain": [
              "<Figure size 1440x720 with 1 Axes>"
            ],
            "image/png": "[encoded data removed]"
          },
          "metadata": {
            "needs_background": "light"
          }
        }
      ]
    },
    {
      "cell_type": "code",
      "source": [
        "# use the model to predict the test inputs\n",
        "predictions = model.predict(inputs_test)\n",
        "\n",
        "# print the predictions and the expected ouputs\n",
        "print(\"predictions =\\n\", np.round(predictions, decimals=3))\n",
        "print(\"actual =\\n\", outputs_test)\n",
        "\n"
      ],
      "metadata": {
        "colab": {
          "base_uri": "https://localhost:8080/"
        },
        "id": "As6SxNuEENFl",
        "outputId": "111eed0f-38c0-4bfa-ec4a-ea28386ff39d"
      },
      "execution_count": null,
      "outputs": [
        {
          "output_type": "stream",
          "name": "stdout",
          "text": [
            "3/3 [==============================] - 0s 4ms/step\n",
            "predictions =\n",
            " [[0.001 0.771 0.224 0.004]\n",
            " [0.08  0.47  0.403 0.048]\n",
            " [0.093 0.254 0.542 0.111]\n",
            " [0.029 0.545 0.395 0.03 ]\n",
            " [0.825 0.038 0.077 0.06 ]\n",
            " [0.037 0.315 0.573 0.075]\n",
            " [0.015 0.006 0.064 0.915]\n",
            " [0.093 0.254 0.542 0.111]\n",
            " [0.825 0.038 0.077 0.06 ]\n",
            " [0.825 0.038 0.077 0.06 ]\n",
            " [0.    0.85  0.149 0.001]\n",
            " [0.009 0.003 0.043 0.944]\n",
            " [0.033 0.485 0.433 0.049]\n",
            " [0.037 0.315 0.573 0.075]\n",
            " [0.029 0.545 0.395 0.03 ]\n",
            " [0.825 0.038 0.077 0.06 ]\n",
            " [0.026 0.295 0.605 0.073]\n",
            " [0.825 0.038 0.077 0.06 ]\n",
            " [0.825 0.038 0.077 0.06 ]\n",
            " [0.08  0.47  0.403 0.048]\n",
            " [0.037 0.315 0.573 0.075]\n",
            " [0.017 0.572 0.382 0.029]\n",
            " [0.825 0.038 0.077 0.06 ]\n",
            " [0.001 0.002 0.031 0.967]\n",
            " [0.129 0.263 0.498 0.11 ]\n",
            " [0.004 0.003 0.04  0.953]\n",
            " [0.009 0.003 0.043 0.944]\n",
            " [0.026 0.295 0.605 0.073]\n",
            " [0.026 0.295 0.605 0.073]\n",
            " [0.825 0.038 0.077 0.06 ]\n",
            " [0.825 0.038 0.077 0.06 ]\n",
            " [0.825 0.038 0.077 0.06 ]\n",
            " [0.093 0.254 0.542 0.111]\n",
            " [0.825 0.038 0.077 0.06 ]\n",
            " [0.093 0.254 0.542 0.111]\n",
            " [0.08  0.47  0.403 0.048]\n",
            " [0.825 0.038 0.077 0.06 ]\n",
            " [0.017 0.572 0.382 0.029]\n",
            " [0.053 0.333 0.538 0.075]\n",
            " [0.825 0.038 0.077 0.06 ]\n",
            " [0.023 0.011 0.095 0.871]\n",
            " [0.825 0.038 0.077 0.06 ]\n",
            " [0.003 0.689 0.297 0.01 ]\n",
            " [0.029 0.545 0.395 0.03 ]\n",
            " [0.006 0.625 0.353 0.016]\n",
            " [0.093 0.254 0.542 0.111]\n",
            " [0.023 0.011 0.095 0.871]\n",
            " [0.129 0.263 0.498 0.11 ]\n",
            " [0.006 0.625 0.353 0.016]\n",
            " [0.825 0.038 0.077 0.06 ]\n",
            " [0.825 0.038 0.077 0.06 ]\n",
            " [0.026 0.295 0.605 0.073]\n",
            " [0.002 0.286 0.666 0.046]\n",
            " [0.001 0.001 0.018 0.981]\n",
            " [0.026 0.295 0.605 0.073]\n",
            " [0.026 0.295 0.605 0.073]\n",
            " [0.002 0.002 0.028 0.969]\n",
            " [0.002 0.002 0.032 0.965]\n",
            " [0.825 0.038 0.077 0.06 ]\n",
            " [0.825 0.038 0.077 0.06 ]\n",
            " [0.017 0.572 0.382 0.029]\n",
            " [0.037 0.315 0.573 0.075]\n",
            " [0.001 0.001 0.026 0.972]\n",
            " [0.276 0.175 0.4   0.148]\n",
            " [0.015 0.006 0.064 0.915]\n",
            " [0.037 0.315 0.573 0.075]\n",
            " [0.017 0.572 0.382 0.029]\n",
            " [0.006 0.625 0.353 0.016]\n",
            " [0.006 0.005 0.062 0.927]\n",
            " [0.015 0.006 0.064 0.915]\n",
            " [0.004 0.003 0.04  0.953]\n",
            " [0.001 0.72  0.272 0.007]\n",
            " [0.093 0.254 0.542 0.111]\n",
            " [0.017 0.572 0.382 0.029]\n",
            " [0.093 0.254 0.542 0.111]\n",
            " [0.825 0.038 0.077 0.06 ]\n",
            " [0.825 0.038 0.077 0.06 ]\n",
            " [0.006 0.625 0.353 0.016]\n",
            " [0.    0.795 0.202 0.003]]\n",
            "actual =\n",
            " [[0. 1. 0. 0.]\n",
            " [0. 1. 0. 0.]\n",
            " [0. 0. 1. 0.]\n",
            " [0. 1. 0. 0.]\n",
            " [1. 0. 0. 0.]\n",
            " [0. 0. 1. 0.]\n",
            " [0. 0. 0. 1.]\n",
            " [0. 0. 1. 0.]\n",
            " [1. 0. 0. 0.]\n",
            " [1. 0. 0. 0.]\n",
            " [0. 1. 0. 0.]\n",
            " [0. 0. 0. 1.]\n",
            " [0. 1. 0. 0.]\n",
            " [0. 0. 1. 0.]\n",
            " [0. 1. 0. 0.]\n",
            " [1. 0. 0. 0.]\n",
            " [0. 0. 1. 0.]\n",
            " [1. 0. 0. 0.]\n",
            " [1. 0. 0. 0.]\n",
            " [0. 1. 0. 0.]\n",
            " [0. 0. 1. 0.]\n",
            " [0. 1. 0. 0.]\n",
            " [1. 0. 0. 0.]\n",
            " [0. 0. 0. 1.]\n",
            " [0. 0. 1. 0.]\n",
            " [0. 0. 0. 1.]\n",
            " [0. 0. 0. 1.]\n",
            " [0. 0. 1. 0.]\n",
            " [0. 0. 1. 0.]\n",
            " [1. 0. 0. 0.]\n",
            " [1. 0. 0. 0.]\n",
            " [1. 0. 0. 0.]\n",
            " [0. 0. 1. 0.]\n",
            " [1. 0. 0. 0.]\n",
            " [0. 0. 1. 0.]\n",
            " [0. 1. 0. 0.]\n",
            " [1. 0. 0. 0.]\n",
            " [0. 1. 0. 0.]\n",
            " [0. 0. 1. 0.]\n",
            " [1. 0. 0. 0.]\n",
            " [0. 0. 0. 1.]\n",
            " [1. 0. 0. 0.]\n",
            " [0. 1. 0. 0.]\n",
            " [0. 1. 0. 0.]\n",
            " [0. 1. 0. 0.]\n",
            " [0. 0. 1. 0.]\n",
            " [0. 0. 0. 1.]\n",
            " [0. 0. 1. 0.]\n",
            " [0. 1. 0. 0.]\n",
            " [1. 0. 0. 0.]\n",
            " [1. 0. 0. 0.]\n",
            " [0. 0. 1. 0.]\n",
            " [0. 0. 1. 0.]\n",
            " [0. 0. 0. 1.]\n",
            " [0. 0. 1. 0.]\n",
            " [0. 0. 1. 0.]\n",
            " [0. 0. 0. 1.]\n",
            " [0. 0. 0. 1.]\n",
            " [1. 0. 0. 0.]\n",
            " [1. 0. 0. 0.]\n",
            " [0. 1. 0. 0.]\n",
            " [0. 0. 1. 0.]\n",
            " [0. 0. 0. 1.]\n",
            " [0. 0. 1. 0.]\n",
            " [0. 0. 0. 1.]\n",
            " [0. 0. 1. 0.]\n",
            " [0. 1. 0. 0.]\n",
            " [0. 1. 0. 0.]\n",
            " [0. 0. 0. 1.]\n",
            " [0. 0. 0. 1.]\n",
            " [0. 0. 0. 1.]\n",
            " [0. 1. 0. 0.]\n",
            " [0. 0. 1. 0.]\n",
            " [0. 1. 0. 0.]\n",
            " [0. 0. 1. 0.]\n",
            " [1. 0. 0. 0.]\n",
            " [1. 0. 0. 0.]\n",
            " [0. 1. 0. 0.]\n",
            " [0. 1. 0. 0.]]\n"
          ]
        }
      ]
    },
    {
      "cell_type": "code",
      "source": [
        "print(inputs_test)\n",
        "outputs_test"
      ],
      "metadata": {
        "colab": {
          "base_uri": "https://localhost:8080/"
        },
        "id": "adUJx17ZElaz",
        "outputId": "4a8960b6-524e-40e2-d41d-4242a342ac22"
      },
      "execution_count": null,
      "outputs": [
        {
          "output_type": "stream",
          "name": "stdout",
          "text": [
            "[[0.15 0.35 0.6 ]\n",
            " [0.1  0.2  0.3 ]\n",
            " [0.1  0.35 0.2 ]\n",
            " [0.1  0.25 0.35]\n",
            " [0.05 0.05 0.05]\n",
            " [0.1  0.4  0.25]\n",
            " [0.55 0.25 0.25]\n",
            " [0.1  0.35 0.2 ]\n",
            " [0.05 0.05 0.05]\n",
            " [0.05 0.05 0.05]\n",
            " [0.15 0.45 0.75]\n",
            " [0.6  0.25 0.25]\n",
            " [0.15 0.25 0.35]\n",
            " [0.1  0.4  0.25]\n",
            " [0.1  0.25 0.35]\n",
            " [0.05 0.05 0.05]\n",
            " [0.1  0.45 0.25]\n",
            " [0.05 0.05 0.05]\n",
            " [0.05 0.05 0.05]\n",
            " [0.1  0.2  0.3 ]\n",
            " [0.1  0.4  0.25]\n",
            " [0.15 0.25 0.4 ]\n",
            " [0.05 0.05 0.05]\n",
            " [0.75 0.4  0.35]\n",
            " [0.1  0.3  0.2 ]\n",
            " [0.65 0.3  0.3 ]\n",
            " [0.6  0.25 0.25]\n",
            " [0.1  0.45 0.25]\n",
            " [0.1  0.45 0.25]\n",
            " [0.05 0.05 0.05]\n",
            " [0.05 0.05 0.05]\n",
            " [0.05 0.05 0.05]\n",
            " [0.1  0.35 0.2 ]\n",
            " [0.05 0.05 0.05]\n",
            " [0.1  0.35 0.2 ]\n",
            " [0.1  0.2  0.3 ]\n",
            " [0.05 0.05 0.05]\n",
            " [0.15 0.25 0.4 ]\n",
            " [0.1  0.35 0.25]\n",
            " [0.05 0.05 0.05]\n",
            " [0.5  0.25 0.25]\n",
            " [0.05 0.05 0.05]\n",
            " [0.15 0.3  0.5 ]\n",
            " [0.1  0.25 0.35]\n",
            " [0.15 0.3  0.45]\n",
            " [0.1  0.35 0.2 ]\n",
            " [0.5  0.25 0.25]\n",
            " [0.1  0.3  0.2 ]\n",
            " [0.15 0.3  0.45]\n",
            " [0.05 0.05 0.05]\n",
            " [0.05 0.05 0.05]\n",
            " [0.1  0.45 0.25]\n",
            " [0.15 0.65 0.35]\n",
            " [0.8  0.35 0.35]\n",
            " [0.1  0.45 0.25]\n",
            " [0.1  0.45 0.25]\n",
            " [0.7  0.3  0.3 ]\n",
            " [0.7  0.35 0.3 ]\n",
            " [0.05 0.05 0.05]\n",
            " [0.05 0.05 0.05]\n",
            " [0.15 0.25 0.4 ]\n",
            " [0.1  0.4  0.25]\n",
            " [0.75 0.35 0.35]\n",
            " [0.1  0.25 0.15]\n",
            " [0.55 0.25 0.25]\n",
            " [0.1  0.4  0.25]\n",
            " [0.15 0.25 0.4 ]\n",
            " [0.15 0.3  0.45]\n",
            " [0.6  0.3  0.3 ]\n",
            " [0.55 0.25 0.25]\n",
            " [0.65 0.3  0.3 ]\n",
            " [0.15 0.35 0.55]\n",
            " [0.1  0.35 0.2 ]\n",
            " [0.15 0.25 0.4 ]\n",
            " [0.1  0.35 0.2 ]\n",
            " [0.05 0.05 0.05]\n",
            " [0.05 0.05 0.05]\n",
            " [0.15 0.3  0.45]\n",
            " [0.15 0.4  0.65]]\n"
          ]
        },
        {
          "output_type": "execute_result",
          "data": {
            "text/plain": [
              "array([[0., 1., 0., 0.],\n",
              "       [0., 1., 0., 0.],\n",
              "       [0., 0., 1., 0.],\n",
              "       [0., 1., 0., 0.],\n",
              "       [1., 0., 0., 0.],\n",
              "       [0., 0., 1., 0.],\n",
              "       [0., 0., 0., 1.],\n",
              "       [0., 0., 1., 0.],\n",
              "       [1., 0., 0., 0.],\n",
              "       [1., 0., 0., 0.],\n",
              "       [0., 1., 0., 0.],\n",
              "       [0., 0., 0., 1.],\n",
              "       [0., 1., 0., 0.],\n",
              "       [0., 0., 1., 0.],\n",
              "       [0., 1., 0., 0.],\n",
              "       [1., 0., 0., 0.],\n",
              "       [0., 0., 1., 0.],\n",
              "       [1., 0., 0., 0.],\n",
              "       [1., 0., 0., 0.],\n",
              "       [0., 1., 0., 0.],\n",
              "       [0., 0., 1., 0.],\n",
              "       [0., 1., 0., 0.],\n",
              "       [1., 0., 0., 0.],\n",
              "       [0., 0., 0., 1.],\n",
              "       [0., 0., 1., 0.],\n",
              "       [0., 0., 0., 1.],\n",
              "       [0., 0., 0., 1.],\n",
              "       [0., 0., 1., 0.],\n",
              "       [0., 0., 1., 0.],\n",
              "       [1., 0., 0., 0.],\n",
              "       [1., 0., 0., 0.],\n",
              "       [1., 0., 0., 0.],\n",
              "       [0., 0., 1., 0.],\n",
              "       [1., 0., 0., 0.],\n",
              "       [0., 0., 1., 0.],\n",
              "       [0., 1., 0., 0.],\n",
              "       [1., 0., 0., 0.],\n",
              "       [0., 1., 0., 0.],\n",
              "       [0., 0., 1., 0.],\n",
              "       [1., 0., 0., 0.],\n",
              "       [0., 0., 0., 1.],\n",
              "       [1., 0., 0., 0.],\n",
              "       [0., 1., 0., 0.],\n",
              "       [0., 1., 0., 0.],\n",
              "       [0., 1., 0., 0.],\n",
              "       [0., 0., 1., 0.],\n",
              "       [0., 0., 0., 1.],\n",
              "       [0., 0., 1., 0.],\n",
              "       [0., 1., 0., 0.],\n",
              "       [1., 0., 0., 0.],\n",
              "       [1., 0., 0., 0.],\n",
              "       [0., 0., 1., 0.],\n",
              "       [0., 0., 1., 0.],\n",
              "       [0., 0., 0., 1.],\n",
              "       [0., 0., 1., 0.],\n",
              "       [0., 0., 1., 0.],\n",
              "       [0., 0., 0., 1.],\n",
              "       [0., 0., 0., 1.],\n",
              "       [1., 0., 0., 0.],\n",
              "       [1., 0., 0., 0.],\n",
              "       [0., 1., 0., 0.],\n",
              "       [0., 0., 1., 0.],\n",
              "       [0., 0., 0., 1.],\n",
              "       [0., 0., 1., 0.],\n",
              "       [0., 0., 0., 1.],\n",
              "       [0., 0., 1., 0.],\n",
              "       [0., 1., 0., 0.],\n",
              "       [0., 1., 0., 0.],\n",
              "       [0., 0., 0., 1.],\n",
              "       [0., 0., 0., 1.],\n",
              "       [0., 0., 0., 1.],\n",
              "       [0., 1., 0., 0.],\n",
              "       [0., 0., 1., 0.],\n",
              "       [0., 1., 0., 0.],\n",
              "       [0., 0., 1., 0.],\n",
              "       [1., 0., 0., 0.],\n",
              "       [1., 0., 0., 0.],\n",
              "       [0., 1., 0., 0.],\n",
              "       [0., 1., 0., 0.]])"
            ]
          },
          "metadata": {},
          "execution_count": 15
        }
      ]
    },
    {
      "cell_type": "code",
      "source": [
        "\n",
        "from sklearn.metrics import accuracy_score\n",
        "pred=predictions>0.5\n",
        "accuracy_score(outputs_test,pred)"
      ],
      "metadata": {
        "colab": {
          "base_uri": "https://localhost:8080/"
        },
        "id": "ckBjHeBOFPVN",
        "outputId": "a92433dc-c8b3-42a0-c756-793f091761c5"
      },
      "execution_count": null,
      "outputs": [
        {
          "output_type": "execute_result",
          "data": {
            "text/plain": [
              "0.9113924050632911"
            ]
          },
          "metadata": {},
          "execution_count": 16
        }
      ]
    },
    {
      "cell_type": "code",
      "source": [
        "converter = tf.lite.TFLiteConverter.from_keras_model(model)\n",
        "tflite_model = converter.convert()\n",
        "\n",
        "# Save the model to disk\n",
        "open(\"color_model.tflite\", \"wb\").write(tflite_model)\n",
        "\n",
        "import os\n",
        "basic_model_size = os.path.getsize(\"color_model.tflite\")\n",
        "print(\"Model is %d bytes\" % basic_model_size)"
      ],
      "metadata": {
        "colab": {
          "base_uri": "https://localhost:8080/"
        },
        "id": "_jyiF_ZDHbnl",
        "outputId": "10cafccb-64dc-4b30-ecc1-15bc43632cd0"
      },
      "execution_count": null,
      "outputs": [
        {
          "output_type": "stream",
          "name": "stderr",
          "text": [
            "WARNING:absl:Found untraced functions such as _update_step_xla while saving (showing 1 of 1). These functions will not be directly callable after loading.\n"
          ]
        },
        {
          "output_type": "stream",
          "name": "stdout",
          "text": [
            "Model is 6212 bytes\n"
          ]
        }
      ]
    },
    {
      "cell_type": "code",
      "source": [
        "!echo \"const unsigned char model[] = {\" > /content/model.h\n",
        "!cat color_model.tflite | xxd -i      >> /content/model.h\n",
        "!echo \"};\"                              >> /content/model.h\n",
        "\n",
        "import os\n",
        "model_h_size = os.path.getsize(\"model.h\")\n",
        "print(f\"Header file, model.h, is {model_h_size:,} bytes.\")\n",
        "print(\"\\nOpen the side panel (refresh if needed). Double click model.h to download the file.\")"
      ],
      "metadata": {
        "colab": {
          "base_uri": "https://localhost:8080/"
        },
        "id": "3aEhu6quHeDI",
        "outputId": "ebe0a4fa-e6a3-4332-a3d9-3f666eb6c0ea"
      },
      "execution_count": null,
      "outputs": [
        {
          "output_type": "stream",
          "name": "stdout",
          "text": [
            "Header file, model.h, is 38,342 bytes.\n",
            "\n",
            "Open the side panel (refresh if needed). Double click model.h to download the file.\n"
          ]
        }
      ]
    }
  ]
}